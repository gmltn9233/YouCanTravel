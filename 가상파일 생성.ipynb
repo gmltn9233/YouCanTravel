{
 "cells": [
  {
   "cell_type": "code",
   "execution_count": null,
   "metadata": {},
   "outputs": [],
   "source": [
    "import csv\n",
    "from faker import Faker\n",
    "import random\n",
    "import time\n",
    "import string\n",
    "\n",
    "# CSV 파일 생성을 위한 필드 리스트 생성\n",
    "field_names = ['회원아이디', '비밀번호', '휴대폰번호', '장애종류', '이름', '장애등급', '나이']\n",
    "\n",
    "# 랜덤 데이터 생성\n",
    "data = []\n",
    "fake = Faker('ko-KR')\n",
    "for i in range(200):\n",
    "  _LENGTH = random.randint(4, 16)\n",
    "  string_pool = string.ascii_letters + string.digits\n",
    "  result = \"\"\n",
    "  for i in range(_LENGTH):\n",
    "    result += random.choice(string_pool)\n",
    "  회원아이디 = result\n",
    "\n",
    "  _LENGTH = random.randint(10, 16)\n",
    "  string_pool = string.ascii_letters + string.digits\n",
    "  result = \"\"\n",
    "  for i in range(_LENGTH):\n",
    "    result += random.choice(string_pool)\n",
    "  비밀번호 = result\n",
    "  \n",
    "  휴대폰번호 = '010-'+str(time.time())[-4:] + \"-\" + str(time.time())[-5:-1]\n",
    "  \n",
    "  장애종류 = random.choice(['간', '뇌병변', '뇌전증', '시각', '신장', '심장', '안면', '언어',\n",
    "                       '자폐성', '장루요루', '정신', '지적', '지체', '청각', '호흡기'])\n",
    "\n",
    "  이름 = name = namer.generate(True)\n",
    "\n",
    "  if 장애종류 in ['간', '뇌전증', '안면', '호흡기']:\n",
    "    장애등급 = random.randint(1, 5)\n",
    "  elif 장애종류 in ['뇌병변', '시각', '신장', '심장', '언어', '지체', '청각']:\n",
    "    장애등급 = random.randint(1, 6)\n",
    "  elif 장애종류 in ['자폐성', '정신', '지적']:\n",
    "    장애등급 = random.randint(1, 3)\n",
    "  elif 장애종류 in ['장루요루']:\n",
    "    장애등급 == random.randint(2, 5)\n",
    "  \n",
    "  나이 = random.randint(18, 65)\n",
    "  \n",
    "  data.append([회원아이디, 비밀번호, 휴대폰번호, 장애종류, 이름, 장애등급, 나이])\n",
    "\n",
    "# CSV 파일 생성\n",
    "with open('member.csv', mode='w', newline='') as file:\n",
    "  writer = csv.writer(file)\n",
    "  writer.writerow(field_names)\n",
    "writer.writerows(data)\n"
   ]
  }
 ],
 "metadata": {
  "kernelspec": {
   "display_name": "Python 3",
   "language": "python",
   "name": "python3"
  },
  "language_info": {
   "codemirror_mode": {
    "name": "ipython",
    "version": 3
   },
   "file_extension": ".py",
   "mimetype": "text/x-python",
   "name": "python",
   "nbconvert_exporter": "python",
   "pygments_lexer": "ipython3",
   "version": "3.7.4"
  }
 },
 "nbformat": 4,
 "nbformat_minor": 2
}
