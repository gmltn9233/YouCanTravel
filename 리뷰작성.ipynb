{
 "cells": [
  {
   "cell_type": "code",
   "execution_count": null,
   "metadata": {},
   "outputs": [],
   "source": [
    "import datetime\n",
    "import random\n",
    "import psycopg2\n",
    "\n",
    "conn=psycopg2.connect(host='host', dbname='dbname',user='user',password='password',port=port)\n",
    "cur=conn.cursor()\n",
    "\n",
    "def review():\n",
    "    print(\"****리뷰작성****\")\n",
    "    review_id=random.randrange(1,1000)\n",
    "    customer_id=input(\"회원 ID를 입력하세요 : \")\n",
    "    facility_name=input(\"시설 이름를 입력하세요 : \")\n",
    "    cur.execute(\"SELECT f.FACILITY_ID  from DBPROJECT.FACILITY F where f.FACILITY_NAME ='%s';\"%(facility_name))\n",
    "    facility_id=cur.fetchall()\n",
    "    facility_id=facility_id[0][0]\n",
    "    title=input(\"리뷰 제목을 입력하세요 : \")\n",
    "    review_content=input(\"리뷰를 입력하세요 : \")\n",
    "    review_date1=datetime.date.today()\n",
    "    review_date= review_date1.strftime('%Y-%m-%d')\n",
    "    rating=input(\"별점을 입력해주세요 (1~5) : \")\n",
    "    \n",
    "    print(\"리뷰가 등록되었습니다!\")\n",
    "    cur.execute(\"insert into dbproject.review values ('%s','%s','%s','%s','%s','%s','%s');\"%(review_id,customer_id,facility_id,title,review_content,review_date,rating))\n",
    "    \n",
    "    conn.commit()\n",
    "    \n",
    "    cur.close()\n",
    "    conn.close()\n",
    "\n",
    "review()"
   ]
  }
 ],
 "metadata": {
  "kernelspec": {
   "display_name": "Python 3",
   "language": "python",
   "name": "python3"
  },
  "language_info": {
   "codemirror_mode": {
    "name": "ipython",
    "version": 3
   },
   "file_extension": ".py",
   "mimetype": "text/x-python",
   "name": "python",
   "nbconvert_exporter": "python",
   "pygments_lexer": "ipython3",
   "version": "3.7.4"
  }
 },
 "nbformat": 4,
 "nbformat_minor": 2
}
