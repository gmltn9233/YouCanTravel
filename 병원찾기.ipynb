{
 "cells": [
  {
   "cell_type": "code",
   "execution_count": null,
   "metadata": {},
   "outputs": [],
   "source": [
    "import datetime\n",
    "import random\n",
    "import psycopg2\n",
    "from geopy.geocoders import Nominatim\n",
    "from geopy.distance import geodesic\n",
    "\n",
    "conn=psycopg2.connect(host='host', dbname='dbname',user='user',password='password',port=port)\n",
    "cur=conn.cursor()\n",
    "\n",
    "def get_distance(address1, address2):\n",
    "    geolocator = Nominatim(user_agent=\"my-app\")  # geolocator 객체 생성\n",
    "    location1 = geolocator.geocode(address1)  # 첫 번째 주소의 위치 정보 가져오기\n",
    "    location2 = geolocator.geocode(address2)  # 두 번째 주소의 위치 정보 가져오기\n",
    "    if location1 is None or location2 is None:\n",
    "        return None\n",
    "    point1 = (location1.latitude, location1.longitude)  # 첫 번째 주소의 위도와 경도\n",
    "    point2 = (location2.latitude, location2.longitude)  # 두 번째 주소의 위도와 경도\n",
    "    distance = geodesic(point1, point2).meters  # 거리 계산 (킬로미터 단위로 반환)\n",
    "    return distance\n",
    "\n",
    "def search():\n",
    "    print(\"****병원 찾기****\")\n",
    "    region=input(\"지역을 입력하세요 : \")\n",
    "    name=input(\"시설 이름을 선택하세요 : \")\n",
    "    cur.execute(\"select f.address from DBPROJECT.FACILITY F inner join DBPROJECT.REGION R on F.REGION_ID =R.REGION_ID where R.REGION_NAME ='%s' and F.facility_name='%s'; \"%(region,name))\n",
    "    facility_address=cur.fetchall() #시설 주소값 저장\n",
    "    facility_address=facility_address[0][0]\n",
    "    cur.execute(\"SELECT h.address,h.hospital_name from DBPROJECT.REGION R inner join DBPROJECT.HOSPITAL H on r.REGION_ID =h.REGION_ID where r.REGION_name ='%s'and h.hospital_type not like '%%응급%%' ;\"%(region))\n",
    "    hospitals=cur.fetchall() #검색한 지역 일반병원들 주소값 저장\n",
    "    cur.execute(\"SELECT h.address,h.hospital_name from DBPROJECT.REGION R inner join DBPROJECT.HOSPITAL H on r.REGION_ID =h.REGION_ID where r.REGION_name ='%s'and h.hospital_type like '%%응급%%' ;\"%(region))\n",
    "    hospitals1=cur.fetchall()\n",
    "    min_distance=9999\n",
    "    count=1\n",
    "    for first, last in hospitals:\n",
    "        #if(count==10): break\n",
    "        #count+=1\n",
    "        now = get_distance(facility_address, first)\n",
    "        if now is not None:\n",
    "            min_distance = min(now, min_distance)\n",
    "            if now == min_distance:\n",
    "                min_hospital = last\n",
    "    min_distance1=9999\n",
    "    count=1\n",
    "    for first, last in hospitals1:\n",
    "        #if(count==10): break\n",
    "        #count+=1\n",
    "        now = get_distance(facility_address, first)\n",
    "        if now is not None:\n",
    "            min_distance1 = min(now, min_distance1)\n",
    "            if now == min_distance1:\n",
    "                min_hospital1 = last\n",
    "\n",
    "    print(\"가장 가까운 병원은 %s 이고 거리는 약 %d 미터입니다\"%(min_hospital,min_distance))\n",
    "    print(\"가장 가까운 응급병원은 %s 이고 거리는 약 %d 미터입니다\"%(min_hospital1,min_distance1))\n",
    "search()\n"
   ]
  }
 ],
 "metadata": {
  "kernelspec": {
   "display_name": "Python 3",
   "language": "python",
   "name": "python3"
  },
  "language_info": {
   "codemirror_mode": {
    "name": "ipython",
    "version": 3
   },
   "file_extension": ".py",
   "mimetype": "text/x-python",
   "name": "python",
   "nbconvert_exporter": "python",
   "pygments_lexer": "ipython3",
   "version": "3.7.4"
  }
 },
 "nbformat": 4,
 "nbformat_minor": 2
}
